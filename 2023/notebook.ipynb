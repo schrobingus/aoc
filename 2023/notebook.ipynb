{
 "cells": [
  {
   "cell_type": "code",
   "execution_count": 12,
   "metadata": {},
   "outputs": [
    {
     "name": "stdout",
     "output_type": "stream",
     "text": [
      "142\n"
     ]
    }
   ],
   "source": [
    "# Day 1\n",
    "\n",
    "input = open('inputs/1-ex.txt', 'r').read().split('\\n')\n",
    "output = 0\n",
    "\n",
    "for line in input:\n",
    "    digits = [char for char in line if char.isdigit()]\n",
    "    output += int(digits[0] + digits[-1])\n",
    "    \n",
    "print(output)"
   ]
  },
  {
   "cell_type": "code",
   "execution_count": 62,
   "metadata": {},
   "outputs": [
    {
     "name": "stdout",
     "output_type": "stream",
     "text": [
      "2156\n"
     ]
    }
   ],
   "source": [
    "# Day 2, Part 1\n",
    "\n",
    "input = open('inputs/2-ex.txt', 'r').read().split('\\n')\n",
    "max = {'red': 12, 'green': 13, 'blue': 14}\n",
    "games = []\n",
    "output = 0\n",
    "\n",
    "for game in range(len(input)): \n",
    "    input[game] = input[game].split(': ', 1)[-1]\n",
    "   \n",
    "for game in input:\n",
    "    cubes_count = {'red': 0, 'green': 0, 'blue': 0}\n",
    "    game = game.split('; ')\n",
    "    for set in game:\n",
    "        set = set.split(', ')\n",
    "        for cubes in set:\n",
    "            cubes_color = cubes.split(' ')\n",
    "            if int(cubes_color[0]) > cubes_count[cubes_color[-1]]: \n",
    "                cubes_count[cubes_color[-1]] = int(cubes_color[0])\n",
    "    games.append(cubes_count)\n",
    "\n",
    "for game in range(len(games)):\n",
    "    possible = True\n",
    "    for color in ['red', 'green', 'blue']:\n",
    "        if games[game][color] > max[color]: \n",
    "            possible = False \n",
    "            break\n",
    "    if possible: \n",
    "        output += game+1\n",
    "\n",
    "print(output)"
   ]
  }
 ],
 "metadata": {
  "kernelspec": {
   "display_name": "Python 3",
   "language": "python",
   "name": "python3"
  },
  "language_info": {
   "codemirror_mode": {
    "name": "ipython",
    "version": 3
   },
   "file_extension": ".py",
   "mimetype": "text/x-python",
   "name": "python",
   "nbconvert_exporter": "python",
   "pygments_lexer": "ipython3",
   "version": "3.11.6"
  }
 },
 "nbformat": 4,
 "nbformat_minor": 2
}
